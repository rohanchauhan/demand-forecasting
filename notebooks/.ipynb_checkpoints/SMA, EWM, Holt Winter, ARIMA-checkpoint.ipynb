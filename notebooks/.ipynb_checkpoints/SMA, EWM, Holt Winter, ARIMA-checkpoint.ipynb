{
 "cells": [
  {
   "cell_type": "code",
   "execution_count": 2,
   "id": "42f8c37c",
   "metadata": {},
   "outputs": [],
   "source": [
    "import pandas as pd\n",
    "import numpy as np\n",
    "\n",
    "from statsmodels.tsa.stattools import adfuller\n"
   ]
  },
  {
   "cell_type": "code",
   "execution_count": 108,
   "id": "fecf0b36",
   "metadata": {},
   "outputs": [],
   "source": [
    "def adf_test(df,title=''):\n",
    "    \"\"\"\n",
    "    Takes in a time series and returns stationary or non-stationary\n",
    "    \"\"\"\n",
    "    pvalue = adfuller(df,autolag='AIC')[1]\n",
    "    \n",
    "    # print('p-value', pvalue)\n",
    "    # Visual inspection for data with p value of NaN\n",
    "    '''\n",
    "    if(np.isnan(result[1])):\n",
    "        df.plot(figsize=(15,5))\n",
    "    '''\n",
    "    \n",
    "    if (pvalue <= 0.05 or np.isnan(pvalue)):\n",
    "        print(\"Data is stationary\")\n",
    "    else:\n",
    "        print(\"Data is non-stationary\")"
   ]
  },
  {
   "cell_type": "code",
   "execution_count": 35,
   "id": "7202e629",
   "metadata": {},
   "outputs": [],
   "source": [
    "dataset_path = '../data/DS_ML Coding Challenge Dataset.xlsx'\n",
    "train_dataset = pd.read_excel(dataset_path, sheet_name='Training Dataset')\n",
    "test_dataset = pd.read_excel(dataset_path, sheet_name='Test Dataset')"
   ]
  },
  {
   "cell_type": "code",
   "execution_count": 36,
   "id": "e08de68b",
   "metadata": {},
   "outputs": [],
   "source": [
    "a = train_dataset.copy()\n",
    "b = test_dataset.copy()"
   ]
  },
  {
   "cell_type": "code",
   "execution_count": 37,
   "id": "ca7585c1",
   "metadata": {},
   "outputs": [],
   "source": [
    "train_dataset = a.copy()\n",
    "test_dataset = b.copy()"
   ]
  },
  {
   "cell_type": "code",
   "execution_count": 38,
   "id": "0f2ba618",
   "metadata": {},
   "outputs": [],
   "source": [
    "train_dataset.rename(columns={'ProductType':'ProductName'}, inplace=True)\n",
    "train_dataset.columns = [column_name.replace(' ','') for column_name in train_dataset.columns]\n",
    "\n",
    "test_dataset.rename(columns={'ProductType':'ProductName'}, inplace=True)\n",
    "test_dataset.columns = [column_name.replace(' ','') for column_name in test_dataset.columns]"
   ]
  },
  {
   "cell_type": "code",
   "execution_count": 39,
   "id": "0f7a87d0",
   "metadata": {},
   "outputs": [],
   "source": [
    "train_dataset['ProductID'] = train_dataset['ProductName'].map(str) + train_dataset['Manufacturer'] + \\\n",
    "                             train_dataset['AreaCode'] + train_dataset['SourcingChannel'] + \\\n",
    "                             train_dataset['ProductSize'] + train_dataset['ProductType']\n",
    "\n",
    "test_dataset['ProductID'] = test_dataset['ProductName'].map(str) + test_dataset['Manufacturer'] + \\\n",
    "                            test_dataset['AreaCode'] + test_dataset['SourcingChannel'] + \\\n",
    "                            test_dataset['ProductSize'] + test_dataset['ProductType'] "
   ]
  },
  {
   "cell_type": "code",
   "execution_count": 40,
   "id": "c7363160",
   "metadata": {},
   "outputs": [],
   "source": [
    "gb = train_dataset.groupby(['ProductID'])\n",
    "groups = [gb.get_group(group_name) for group_name in gb.groups]"
   ]
  },
  {
   "cell_type": "code",
   "execution_count": 110,
   "id": "ca1753b5",
   "metadata": {},
   "outputs": [
    {
     "name": "stdout",
     "output_type": "stream",
     "text": [
      "Removed Outliers:  423\n",
      "Data is stationary\n",
      "Removed Outliers:  138\n",
      "Data is stationary\n",
      "Removed Outliers:  271\n",
      "Data is stationary\n",
      "Removed Outliers:  1724\n",
      "Data is stationary\n",
      "Removed Outliers:  470\n",
      "Data is stationary\n",
      "Removed Outliers:  128\n",
      "Data is stationary\n",
      "Removed Outliers:  235\n",
      "Data is stationary\n",
      "Removed Outliers:  342\n",
      "Data is stationary\n",
      "Removed Outliers:  1247\n",
      "Data is stationary\n",
      "Removed Outliers:  1001\n",
      "Data is stationary\n",
      "Removed Outliers:  81\n",
      "Data is stationary\n",
      "Removed Outliers:  360\n",
      "Data is stationary\n",
      "Removed Outliers:  100\n",
      "Data is stationary\n",
      "Removed Outliers:  38\n",
      "Data is stationary\n",
      "Removed Outliers:  0\n",
      "Data is stationary\n",
      "Removed Outliers:  95\n",
      "Data is stationary\n",
      "Removed Outliers:  198\n",
      "Data is stationary\n",
      "Removed Outliers:  225\n",
      "Data is stationary\n",
      "Removed Outliers:  242\n",
      "Data is stationary\n",
      "Removed Outliers:  74\n",
      "Data is stationary\n",
      "Removed Outliers:  535\n",
      "Data is stationary\n",
      "Removed Outliers:  0\n",
      "Data is stationary\n",
      "Removed Outliers:  116\n",
      "Data is stationary\n",
      "Removed Outliers:  1166\n",
      "Data is stationary\n",
      "Removed Outliers:  438\n",
      "Data is stationary\n",
      "Removed Outliers:  136\n",
      "Data is stationary\n",
      "Removed Outliers:  230\n",
      "Data is stationary\n",
      "Removed Outliers:  74\n",
      "Data is stationary\n",
      "Removed Outliers:  722\n",
      "Data is stationary\n",
      "Removed Outliers:  0\n",
      "Data is stationary\n",
      "Removed Outliers:  130\n",
      "Data is stationary\n",
      "Removed Outliers:  616\n",
      "Data is stationary\n",
      "Removed Outliers:  286\n",
      "Data is stationary\n",
      "Removed Outliers:  181\n",
      "Data is stationary\n",
      "Removed Outliers:  0\n",
      "Data is stationary\n",
      "Removed Outliers:  34\n",
      "Data is stationary\n",
      "Removed Outliers:  888\n",
      "Data is stationary\n",
      "Removed Outliers:  577\n",
      "Data is stationary\n",
      "Removed Outliers:  326\n",
      "Data is stationary\n",
      "Removed Outliers:  2392\n",
      "Data is stationary\n",
      "Removed Outliers:  0\n",
      "Data is stationary\n",
      "Removed Outliers:  534\n",
      "Data is stationary\n",
      "Removed Outliers:  47\n",
      "Data is stationary\n",
      "Removed Outliers:  302\n",
      "Data is stationary\n",
      "Removed Outliers:  193\n",
      "Data is stationary\n",
      "Removed Outliers:  159\n",
      "Data is stationary\n",
      "Removed Outliers:  44\n",
      "Data is stationary\n",
      "Removed Outliers:  2054\n",
      "Data is stationary\n",
      "Removed Outliers:  609\n",
      "Data is stationary\n",
      "Removed Outliers:  187\n",
      "Data is stationary\n",
      "Removed Outliers:  363\n",
      "Data is stationary\n",
      "Removed Outliers:  24\n",
      "Data is stationary\n",
      "Removed Outliers:  1\n",
      "Data is stationary\n",
      "Removed Outliers:  1039\n",
      "Data is stationary\n",
      "Removed Outliers:  211\n",
      "Data is stationary\n",
      "Removed Outliers:  103\n",
      "Data is stationary\n",
      "Removed Outliers:  826\n",
      "Data is stationary\n",
      "Removed Outliers:  106\n",
      "Data is stationary\n",
      "Removed Outliers:  226\n",
      "Data is stationary\n",
      "Removed Outliers:  32\n",
      "Data is stationary\n",
      "Removed Outliers:  0\n",
      "Data is stationary\n",
      "Removed Outliers:  137\n",
      "Data is stationary\n",
      "Removed Outliers:  179\n",
      "Data is stationary\n",
      "Removed Outliers:  49\n",
      "Data is stationary\n",
      "Removed Outliers:  134\n",
      "Data is stationary\n",
      "Removed Outliers:  90\n",
      "Data is stationary\n",
      "Removed Outliers:  382\n",
      "Data is stationary\n",
      "Removed Outliers:  879\n",
      "Data is stationary\n",
      "Removed Outliers:  333\n",
      "Data is stationary\n",
      "Removed Outliers:  150\n",
      "Data is stationary\n",
      "Removed Outliers:  0\n",
      "Data is stationary\n",
      "Removed Outliers:  380\n",
      "Data is stationary\n",
      "Removed Outliers:  8\n",
      "Data is stationary\n",
      "Removed Outliers:  0\n",
      "Data is stationary\n",
      "Removed Outliers:  3\n",
      "Data is stationary\n",
      "Removed Outliers:  206\n",
      "Data is stationary\n",
      "Removed Outliers:  122\n",
      "Data is stationary\n",
      "Removed Outliers:  52\n",
      "Data is stationary\n",
      "Removed Outliers:  0\n",
      "Data is stationary\n",
      "Removed Outliers:  0\n",
      "Data is stationary\n",
      "Removed Outliers:  1524\n",
      "Data is stationary\n",
      "Removed Outliers:  3\n",
      "Data is stationary\n",
      "Removed Outliers:  25\n",
      "Data is stationary\n",
      "Removed Outliers:  0\n",
      "Data is stationary\n",
      "Removed Outliers:  0\n",
      "Data is stationary\n",
      "Removed Outliers:  3433\n",
      "Data is stationary\n",
      "Removed Outliers:  888\n",
      "Data is stationary\n",
      "Removed Outliers:  0\n",
      "Data is stationary\n",
      "Removed Outliers:  229\n",
      "Data is stationary\n",
      "Removed Outliers:  889\n",
      "Data is stationary\n",
      "Removed Outliers:  1402\n",
      "Data is stationary\n",
      "Removed Outliers:  993\n",
      "Data is stationary\n",
      "Removed Outliers:  805\n",
      "Data is stationary\n",
      "Removed Outliers:  0\n",
      "Data is stationary\n",
      "Removed Outliers:  0\n",
      "Data is stationary\n",
      "Removed Outliers:  2115\n",
      "Data is stationary\n"
     ]
    }
   ],
   "source": [
    "for group in groups:\n",
    "    df = group[['SourcingCost','MonthofSourcing']].reset_index(drop=True)\n",
    "    \n",
    "    # Removing Outliers using Inter Quartile Range\n",
    "    Q1 = np.percentile(df['SourcingCost'], 25, interpolation = 'midpoint') \n",
    "    Q3 = np.percentile(df['SourcingCost'], 75, interpolation = 'midpoint') \n",
    "    IQR = Q3 - Q1 \n",
    "    old_shape = df.shape\n",
    "    upper = np.where(df['SourcingCost'] > (Q3+1.5*IQR))\n",
    "    lower = np.where(df['SourcingCost'] < (Q1-1.5*IQR))\n",
    "    df.drop(upper[0], axis=0, inplace = True)\n",
    "    df.drop(lower[0], axis=0, inplace = True)\n",
    "    print(\"Removed Outliers: \", old_shape[0]-df.shape[0])\n",
    "    \n",
    "    # Using Augmented Dickey Fuller Test for checking stationarity\n",
    "    adf_test(df['SourcingCost'])"
   ]
  },
  {
   "cell_type": "code",
   "execution_count": 88,
   "id": "716ab46e",
   "metadata": {},
   "outputs": [
    {
     "name": "stdout",
     "output_type": "stream",
     "text": [
      "Old Shape:  (5769, 2)\n",
      "New Shape:  (4522, 2)\n",
      "Data is non-stationary\n"
     ]
    },
    {
     "data": {
      "text/plain": [
       "<AxesSubplot:xlabel='MonthofSourcing'>"
      ]
     },
     "execution_count": 88,
     "metadata": {},
     "output_type": "execute_result"
    },
    {
     "data": {
      "image/png": "[encoded data removed]",
      "text/plain": [
       "<Figure size 1080x360 with 1 Axes>"
      ]
     },
     "metadata": {
      "needs_background": "light"
     },
     "output_type": "display_data"
    }
   ],
   "source": [
    "df = groups[8][['SourcingCost','MonthofSourcing']].reset_index(drop=True)\n",
    "\n",
    "#df.set_index('MonthofSourcing',inplace=True)\n",
    "\n",
    "# Removing Outliers using Inter Quartile Range\n",
    "Q1 = np.percentile(df['SourcingCost'], 25, interpolation = 'midpoint') \n",
    "Q3 = np.percentile(df['SourcingCost'], 75, interpolation = 'midpoint') \n",
    "IQR = Q3 - Q1 \n",
    "print(\"Old Shape: \", df.shape) \n",
    "upper = np.where(df['SourcingCost'] > (Q3+1.5*IQR))\n",
    "lower = np.where(df['SourcingCost'] < (Q1-1.5*IQR))\n",
    "df.drop(upper[0], axis=0, inplace = True)\n",
    "df.drop(lower[0], axis=0, inplace = True)\n",
    "print(\"New Shape: \", df.shape) \n",
    "\n",
    "#df.set_index('MonthofSourcing',inplace=True)\n",
    "from statsmodels.tsa.holtwinters import SimpleExpSmoothing\n",
    "from statsmodels.tsa.holtwinters import ExponentialSmoothing\n",
    "\n",
    "span = 3\n",
    "alpha = 2/(span+1)\n",
    "\n",
    "df = df.groupby('MonthofSourcing').mean()\n",
    "df.index.freq='MS'\n",
    "'''\n",
    "df['SMA3'] = df['SourcingCost'].rolling(window=2).mean()\n",
    "df['EWMA3'] = df['SourcingCost'].ewm(span=2,adjust=False).mean()\n",
    "df['SES3'] = SimpleExpSmoothing(df['SourcingCost']).fit(smoothing_level=alpha,optimized=False).fittedvalues.shift(-1)\n",
    "df['DESA3'] = ExponentialSmoothing(df['SourcingCost'], trend='add').fit().fittedvalues.shift(-1)\n",
    "df['DESM3'] = ExponentialSmoothing(df['SourcingCost'], trend='mul').fit().fittedvalues.shift(-1)\n",
    "'''\n",
    "adf_test(df['SourcingCost'])\n",
    "df.plot(figsize=(15,5))\n"
   ]
  },
  {
   "cell_type": "markdown",
   "id": "e71a7071",
   "metadata": {},
   "source": [
    "TES is not used as it adds seasonality but the given data has none."
   ]
  },
  {
   "cell_type": "code",
   "execution_count": 54,
   "id": "e50c7abd",
   "metadata": {},
   "outputs": [
    {
     "name": "stderr",
     "output_type": "stream",
     "text": [
      "/Users/rohan/Desktop/maersk/maersk-env/lib/python3.9/site-packages/statsmodels/tsa/holtwinters/model.py:427: FutureWarning: After 0.13 initialization must be handled at model creation\n",
      "  warnings.warn(\n",
      "/Users/rohan/Desktop/maersk/maersk-env/lib/python3.9/site-packages/statsmodels/tsa/base/tsa_model.py:132: FutureWarning: The 'freq' argument in Timestamp is deprecated and will be removed in a future version.\n",
      "  date_key = Timestamp(key, freq=base_index.freq)\n"
     ]
    }
   ],
   "source": [
    "from statsmodels.tsa.holtwinters import ExponentialSmoothing\n",
    "\n",
    "# Get true value\n",
    "PID = groups[0].ProductID.unique()[0]\n",
    "y_test = test_dataset.loc[test_dataset.ProductID==PID,'SourcingCost'].values[0]\n",
    "\n",
    "# Get predicted value\n",
    "fitted_model = ExponentialSmoothing(df['SourcingCost'],trend='mul').fit()\n",
    "y_pred = fitted_model.forecast(1)[0]"
   ]
  },
  {
   "cell_type": "code",
   "execution_count": 55,
   "id": "5d768bde",
   "metadata": {},
   "outputs": [
    {
     "data": {
      "text/plain": [
       "22.450000997817227"
      ]
     },
     "execution_count": 55,
     "metadata": {},
     "output_type": "execute_result"
    }
   ],
   "source": [
    "y_test-y_pred"
   ]
  },
  {
   "cell_type": "code",
   "execution_count": 67,
   "id": "98084ab3",
   "metadata": {},
   "outputs": [
    {
     "data": {
      "text/plain": [
       "\"\\nfrom statsmodels.tsa.ar_model import AR,ARResults\\nmodel = AR(df['SourcingCost'])\\nAR1fit = model.fit(maxlag=1,method='mle')\\n\\nstart=len(df)\\nend=len(df)\\npredictions1 = AR1fit.predict(start=start, end=end, dynamic=False).rename('AR(1) Predictions')\\n\""
      ]
     },
     "execution_count": 67,
     "metadata": {},
     "output_type": "execute_result"
    }
   ],
   "source": [
    "'''\n",
    "from statsmodels.tsa.ar_model import AR,ARResults\n",
    "model = AR(df['SourcingCost'])\n",
    "AR1fit = model.fit(maxlag=1,method='mle')\n",
    "\n",
    "start=len(df)\n",
    "end=len(df)\n",
    "predictions1 = AR1fit.predict(start=start, end=end, dynamic=False).rename('AR(1) Predictions')\n",
    "'''"
   ]
  },
  {
   "cell_type": "code",
   "execution_count": 105,
   "id": "10b5389d",
   "metadata": {},
   "outputs": [],
   "source": [
    "from statsmodels.tsa.stattools import adfuller\n",
    "\n",
    "def adf_test(df,title=''):\n",
    "    \"\"\"\n",
    "    Takes in a time series and returns stationary or non-stationary\n",
    "    \"\"\"\n",
    "    result = adfuller(df,autolag='AIC') # .dropna() handles differenced data\n",
    "    print('p-value', result[1])\n",
    "    \n",
    "    \n",
    "    # Visual inspection for data with p value of NaN\n",
    "    '''\n",
    "    if(np.isnan(result[1])):\n",
    "        df.plot(figsize=(15,5))\n",
    "    '''\n",
    "    \n",
    "    if (result[1] <= 0.05 or np.isnan(result[1])):\n",
    "        print(\"Data is stationary\")\n",
    "    else:\n",
    "        print(\"Data is non-stationary\")"
   ]
  }
 ],
 "metadata": {
  "kernelspec": {
   "display_name": "Python 3 (ipykernel)",
   "language": "python",
   "name": "python3"
  },
  "language_info": {
   "codemirror_mode": {
    "name": "ipython",
    "version": 3
   },
   "file_extension": ".py",
   "mimetype": "text/x-python",
   "name": "python",
   "nbconvert_exporter": "python",
   "pygments_lexer": "ipython3",
   "version": "3.9.5"
  }
 },
 "nbformat": 4,
 "nbformat_minor": 5
}
