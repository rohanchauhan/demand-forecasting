{
 "cells": [
  {
   "cell_type": "code",
   "execution_count": 1,
   "id": "55804bb0",
   "metadata": {},
   "outputs": [],
   "source": [
    "import pandas as pd\n",
    "import numpy as np"
   ]
  },
  {
   "cell_type": "code",
   "execution_count": 59,
   "id": "0fe264d2",
   "metadata": {},
   "outputs": [],
   "source": [
    "dataset_path = '../data/DS_ML Coding Challenge Dataset.xlsx'\n",
    "train_dataset = pd.read_excel(dataset_path, sheet_name='Training Dataset')\n",
    "test_dataset = pd.read_excel(dataset_path, sheet_name='Test Dataset')"
   ]
  },
  {
   "cell_type": "code",
   "execution_count": 60,
   "id": "95421cb7",
   "metadata": {},
   "outputs": [],
   "source": [
    "a = train_dataset.copy()\n",
    "b = test_dataset.copy()"
   ]
  },
  {
   "cell_type": "code",
   "execution_count": 61,
   "id": "83362ab7",
   "metadata": {},
   "outputs": [],
   "source": [
    "train_dataset = a.copy()\n",
    "test_dataset = b.copy()"
   ]
  },
  {
   "cell_type": "code",
   "execution_count": 62,
   "id": "39b91e70",
   "metadata": {},
   "outputs": [],
   "source": [
    "def preprocess_data(dataset):\n",
    "    '''\n",
    "    Returns X and y after converting categorical variables to one-hot encoding and creating time features\n",
    "    '''\n",
    "    \n",
    "    # Renaming column and removing spaces\n",
    "    dataset.rename(columns={'ProductType':'ProductName'}, inplace=True)\n",
    "    dataset.columns = [column_name.replace(' ','') for column_name in dataset.columns]\n",
    "    \n",
    "    # Creating time features\n",
    "    dataset['Year'] = pd.DatetimeIndex(dataset['MonthofSourcing']).year\n",
    "    dataset['Month'] = pd.DatetimeIndex(dataset['MonthofSourcing']).month\n",
    "    \n",
    "    # Creating one-hot-encoding for categorical variables\n",
    "    dataset = pd.get_dummies(dataset, columns=['ProductName'], drop_first=True, prefix='ProductName')\n",
    "    dataset = pd.get_dummies(dataset, columns=['Manufacturer'], drop_first=True, prefix='Manufacturer')\n",
    "    dataset = pd.get_dummies(dataset, columns=['AreaCode'], drop_first=True, prefix='AreaCode')\n",
    "    dataset = pd.get_dummies(dataset, columns=['SourcingChannel'], drop_first=True, prefix='SourcingChannel')\n",
    "    dataset = pd.get_dummies(dataset, columns=['ProductSize'], drop_first=True, prefix='ProductSize')\n",
    "    dataset = pd.get_dummies(dataset, columns=['ProductType'], drop_first=True, prefix='ProductType')\n",
    "    \n",
    "    # Creating X and y\n",
    "    X = dataset.drop(['MonthofSourcing','SourcingCost'], axis=1).values\n",
    "    y = dataset['SourcingCost'].values\n",
    "    \n",
    "    return X, y"
   ]
  },
  {
   "cell_type": "code",
   "execution_count": 63,
   "id": "c482b4bb",
   "metadata": {},
   "outputs": [],
   "source": [
    "X_train, y_train = preprocess_data(train_dataset)\n",
    "X_test, y_test = preprocess_data(test_dataset)"
   ]
  },
  {
   "cell_type": "markdown",
   "id": "6a8e1643",
   "metadata": {},
   "source": [
    "### Tree Based Models"
   ]
  },
  {
   "cell_type": "code",
   "execution_count": 70,
   "id": "217d9456",
   "metadata": {},
   "outputs": [],
   "source": [
    "from sklearn.tree import DecisionTreeRegressor\n",
    "from sklearn.ensemble import RandomForestRegressor, ExtraTreesRegressor, AdaBoostRegressor, GradientBoostingRegressor\n",
    "from sklearn.ensemble import VotingRegressor\n",
    "from sklearn.metrics import r2_score, mean_squared_error"
   ]
  },
  {
   "cell_type": "code",
   "execution_count": 74,
   "id": "c0ea9d60",
   "metadata": {},
   "outputs": [],
   "source": [
    "regressors = [DecisionTreeRegressor(), RandomForestRegressor(), ExtraTreesRegressor(), AdaBoostRegressor(),\\\n",
    "              GradientBoostingRegressor()]\n",
    "\n",
    "model_metrics = {}\n",
    "for reg in regressors:\n",
    "    print('Started Training', reg.__class__.__name__)\n",
    "    trained_model = reg.fit(X_train, y_train)\n",
    "    y_pred = trained_model.predict(X_test)\n",
    "    rmse = np.sqrt(mean_squared_error(y_test, y_pred))\n",
    "    r2 = r2_score(y_test, y_pred)\n",
    "    model_metrics[reg.__class__.__name__] = [rmse, r2]\n",
    "    print('Ended Training', reg.__class__.__name__)"
   ]
  },
  {
   "cell_type": "code",
   "execution_count": 75,
   "id": "5347176c",
   "metadata": {},
   "outputs": [
    {
     "data": {
      "text/plain": [
       "{'DecisionTreeRegressor': [32.771920642592434, 0.6041226046886132],\n",
       " 'RandomForestRegressor': [32.67310545889444, 0.6065063356788155],\n",
       " 'ExtraTreesRegressor': [33.026025248685436, 0.5979597519786245],\n",
       " 'AdaBoostRegressor': [42.09754582155006, 0.3467634571434871],\n",
       " 'GradientBoostingRegressor': [34.22646368488119, 0.5682016540127037]}"
      ]
     },
     "execution_count": 75,
     "metadata": {},
     "output_type": "execute_result"
    }
   ],
   "source": [
    "model_metrics"
   ]
  },
  {
   "cell_type": "markdown",
   "id": "e6e93399",
   "metadata": {},
   "source": [
    "### Voting Regressor"
   ]
  },
  {
   "cell_type": "code",
   "execution_count": 93,
   "id": "40076dfc",
   "metadata": {},
   "outputs": [],
   "source": [
    "k = [(r.__class__.__name__,r) for r in regressors.copy()[1:]]"
   ]
  },
  {
   "cell_type": "code",
   "execution_count": 95,
   "id": "831cbebb",
   "metadata": {},
   "outputs": [
    {
     "name": "stdout",
     "output_type": "stream",
     "text": [
      "VotingRegressor : 29.34400767608154 0.6826081503469329\n"
     ]
    }
   ],
   "source": [
    "vr = VotingRegressor(k)\n",
    "vr.fit(X_train, y_train)\n",
    "y_pred = vr.predict(X_test)\n",
    "rmse = np.sqrt(mean_squared_error(y_test, y_pred))\n",
    "r2 = r2_score(y_test, y_pred)\n",
    "print(vr.__class__.__name__ , ':',rmse, r2)"
   ]
  },
  {
   "cell_type": "markdown",
   "id": "0db8615e",
   "metadata": {},
   "source": [
    "### Light GBM"
   ]
  },
  {
   "cell_type": "code",
   "execution_count": 101,
   "id": "d51b0a72",
   "metadata": {},
   "outputs": [
    {
     "name": "stdout",
     "output_type": "stream",
     "text": [
      "LGBMRegressor : 31.832869673619847 0.6264846128415488\n"
     ]
    }
   ],
   "source": [
    "from lightgbm import LGBMRegressor\n",
    "lgbm = LGBMRegressor()\n",
    "lgbm.fit(X_train, y_train)\n",
    "y_pred = lgbm.predict(X_test)\n",
    "rmse = np.sqrt(mean_squared_error(y_test, y_pred))\n",
    "r2 = r2_score(y_test, y_pred)\n",
    "print(lgbm.__class__.__name__ , ':',rmse, r2)"
   ]
  },
  {
   "cell_type": "markdown",
   "id": "02d70ed5",
   "metadata": {},
   "source": [
    "### XGBoost"
   ]
  },
  {
   "cell_type": "code",
   "execution_count": 102,
   "id": "da56b264",
   "metadata": {},
   "outputs": [
    {
     "name": "stdout",
     "output_type": "stream",
     "text": [
      "XGBRegressor : 31.84472169871585 0.6262064263065128\n"
     ]
    }
   ],
   "source": [
    "from xgboost import XGBRegressor\n",
    "xgbm = XGBRegressor()\n",
    "xgbm.fit(X_train, y_train)\n",
    "y_pred = xgbm.predict(X_test)\n",
    "rmse = np.sqrt(mean_squared_error(y_test, y_pred))\n",
    "r2 = r2_score(y_test, y_pred)\n",
    "print(xgbm.__class__.__name__ , ':',rmse, r2)"
   ]
  }
 ],
 "metadata": {
  "kernelspec": {
   "display_name": "Python 3 (ipykernel)",
   "language": "python",
   "name": "python3"
  },
  "language_info": {
   "codemirror_mode": {
    "name": "ipython",
    "version": 3
   },
   "file_extension": ".py",
   "mimetype": "text/x-python",
   "name": "python",
   "nbconvert_exporter": "python",
   "pygments_lexer": "ipython3",
   "version": "3.9.5"
  }
 },
 "nbformat": 4,
 "nbformat_minor": 5
}
